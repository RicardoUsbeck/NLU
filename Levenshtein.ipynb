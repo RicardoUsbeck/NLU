{
  "nbformat": 4,
  "nbformat_minor": 0,
  "metadata": {
    "colab": {
      "name": "Levenshtein.ipynb",
      "provenance": []
    },
    "kernelspec": {
      "name": "python3",
      "display_name": "Python 3"
    }
  },
  "cells": [
    {
      "cell_type": "markdown",
      "metadata": {
        "id": "gN78e6up20he",
        "colab_type": "text"
      },
      "source": [
        "# Levenshtein-Distanz/Minimum-Edit-Distance (Rekursion)"
      ]
    },
    {
      "cell_type": "code",
      "metadata": {
        "id": "j_jlGRtt2dUJ",
        "colab_type": "code",
        "colab": {
          "base_uri": "https://localhost:8080/",
          "height": 136
        },
        "outputId": "cc864d44-6269-470f-d2cc-749cec18c56a"
      },
      "source": [
        "import time\n",
        "\n",
        "def edit(a,b):\n",
        "    if len(a) == 0:   return len(b)\n",
        "    if len(b) == 0:   return len(a)\n",
        "    cost = 1 if a[-1]!= b[-1] else 0\n",
        "    return min( edit(a[:-1],b[:-1]) + cost,\n",
        "                edit(a,b[:-1]) +1,\n",
        "                edit(a[:-1],b) +1)\n",
        "    \n",
        "start = time.time()\n",
        "print(edit('',''))\n",
        "print(edit('pf','pf'))\n",
        "print(edit('pf','pfer'))\n",
        "print(edit('aaapf','pfaa'))\n",
        "print(edit('apfel','pferd'))\n",
        "print(edit('execution','inception'))\n",
        "ende = time.time()\n",
        "print('{:5.3f}s'.format(ende-start))"
      ],
      "execution_count": null,
      "outputs": [
        {
          "output_type": "stream",
          "text": [
            "0\n",
            "0\n",
            "2\n",
            "4\n",
            "3\n",
            "5\n",
            "0.802s\n"
          ],
          "name": "stdout"
        }
      ]
    },
    {
      "cell_type": "markdown",
      "metadata": {
        "id": "3_2B4Lin226_",
        "colab_type": "text"
      },
      "source": [
        "#Levenshtein-Distanz/Minimum-Edit-Distance (Bottum-Up)\n"
      ]
    },
    {
      "cell_type": "code",
      "metadata": {
        "id": "PFQevjpF20EJ",
        "colab_type": "code",
        "colab": {
          "base_uri": "https://localhost:8080/",
          "height": 136
        },
        "outputId": "de9e4bd8-6a88-460f-f1af-5c3889f53fc5"
      },
      "source": [
        "def edit(a,b):\n",
        "    if len(a) < len(b): return edit(b, a)\n",
        "    a = ' ' + a\n",
        "    b = ' ' + b\n",
        "    d = {}\n",
        "    S, T = len(a), len(b)\n",
        "    for i in range(S):\n",
        "        d[i, 0] = i\n",
        "    for j in range (T):\n",
        "        d[0, j] = j\n",
        "    for j in range(1,T):\n",
        "        for i in range(1,S):\n",
        "            if a[i] == b[j]:\n",
        "                d[i, j] = d[i-1, j-1]\n",
        "            else:\n",
        "                d[i, j] = min(d[i-1, j], d[i, j-1], d[i-1, j-1]) + 1\n",
        "    return d[S-1, T-1]\n",
        "\n",
        "start = time.time()\n",
        "print(edit('',''))\n",
        "print(edit('pf','pf'))\n",
        "print(edit('pf','pfer'))\n",
        "print(edit('aaapf','pfaa'))\n",
        "print(edit('apfel','pferd'))\n",
        "print(edit('execution','inception'))\n",
        "ende = time.time()\n",
        "print('{:5.3f}s'.format(ende-start))"
      ],
      "execution_count": null,
      "outputs": [
        {
          "output_type": "stream",
          "text": [
            "0\n",
            "0\n",
            "2\n",
            "4\n",
            "3\n",
            "5\n",
            "0.001s\n"
          ],
          "name": "stdout"
        }
      ]
    },
    {
      "cell_type": "markdown",
      "metadata": {
        "id": "4AX2m6pk4EwO",
        "colab_type": "text"
      },
      "source": [
        "#Levenshtein-Distanz/Minimum-Edit-Distance (Bottum-up + Speicherreduktion)"
      ]
    },
    {
      "cell_type": "code",
      "metadata": {
        "id": "BwtrgVJF4E4t",
        "colab_type": "code",
        "colab": {
          "base_uri": "https://localhost:8080/",
          "height": 136
        },
        "outputId": "bc67d97b-51a1-4ef7-e620-fbe162027af4"
      },
      "source": [
        "def edit(a, b):\n",
        "  if len(a) < len(b): return edit(b, a)\n",
        "  if len(a) == 0:     return len(b)\n",
        "  if len(b) == 0:     return len(a)\n",
        "  v0, v1 = [None] * (len(a) + 1) ,  [None] * (len(a) + 1)\n",
        "  for i in range(len(v0)):\n",
        "      v0[i] = i\n",
        "  for i in range(len(a)):\n",
        "      v1[0] = i + 1\n",
        "      for j in range(len(b)):\n",
        "          cost = 0 if a[i] == b[j] else 1\n",
        "          v1[j + 1] = min(v1[j] + 1, v0[j + 1] + 1, v0[j] + cost)\n",
        "      for j in range(len(v0)):\n",
        "          v0[j] = v1[j]\n",
        "\n",
        "  return v1[len(b)]\n",
        "\n",
        "start = time.time()\n",
        "print(edit('',''))\n",
        "print(edit('pf','pf'))\n",
        "print(edit('pf','pfer'))\n",
        "print(edit('aaapf','pfaa'))\n",
        "print(edit('apfel','pferd'))\n",
        "print(edit('execution','inception'))\n",
        "ende = time.time()\n",
        "print('{:5.3f}s'.format(ende-start))"
      ],
      "execution_count": null,
      "outputs": [
        {
          "output_type": "stream",
          "text": [
            "0\n",
            "0\n",
            "2\n",
            "4\n",
            "3\n",
            "5\n",
            "0.001s\n"
          ],
          "name": "stdout"
        }
      ]
    }
  ]
}